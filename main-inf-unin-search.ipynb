{
 "cells": [
  {
   "cell_type": "markdown",
   "id": "ec09393e",
   "metadata": {},
   "source": [
    "# Assignment 1: Find a path from the start to the goal"
   ]
  },
  {
   "cell_type": "markdown",
   "id": "e5784593",
   "metadata": {},
   "source": [
    "This assignment is worth 15/100 points. \n",
    "\n",
    "You need to do this assignment with a group of maximum 3 people in total.\n",
    "\n",
    "You will program path-finding algorithms using informed and uninformed search and compare them. You will need to implement the following algorithms:\n",
    "\n",
    "Uninformed Search: \n",
    "- BFS\n",
    "- DFS\n",
    "\n",
    "Informed Search:\n",
    "- A*\n",
    "\n",
    "Answer to all the questions in english, argument, and justify your answers using the obtained results.\n",
    "\n",
    "### Deadline\n",
    "March 3th, 2023 at 23.59\n",
    "\n",
    "### Some Instructions\n",
    "- You need to fill in your answers here and submit this jupyter notebook via NEO.\n",
    "- It should run smoothly.\n",
    "- Any compilation error will affect your total score. \n",
    "\n",
    "\n",
    "### Important before starting! \n",
    "\n",
    "- DO NOT copy the answers from internet nor from your classmates.\n",
    "- If there are two or more groups that were discovered cheeting, then they will be penalized with 0/15.\n",
    "- Use your brain and the material seen in class to program this assignment.\n",
    "- You should be able to explain and modify your code according to your (or my) needs. "
   ]
  },
  {
   "cell_type": "markdown",
   "id": "4732a4de",
   "metadata": {},
   "source": [
    "### Names\n",
    "You and your classmate names:\n",
    "- Name 1\n",
    "- Name 2\n",
    "- Name 3\n"
   ]
  },
  {
   "cell_type": "markdown",
   "id": "63d07a1f",
   "metadata": {},
   "source": [
    "## Code for drawing the map"
   ]
  },
  {
   "cell_type": "markdown",
   "id": "aa43f069",
   "metadata": {},
   "source": [
    "The following code will help you draw the map. You don't need to modify it."
   ]
  },
  {
   "cell_type": "markdown",
   "id": "8fe0fff0",
   "metadata": {},
   "source": [
    "#### Import libraries"
   ]
  },
  {
   "cell_type": "code",
   "execution_count": 141,
   "id": "17ae1dbf",
   "metadata": {},
   "outputs": [],
   "source": [
    "import matplotlib.pyplot as plt\n",
    "from matplotlib import colors\n",
    "import numpy as np\n",
    "from queue import Queue\n",
    "from queue import LifoQueue\n",
    "from queue import PriorityQueue\n",
    "import math"
   ]
  },
  {
   "cell_type": "markdown",
   "id": "609b9e19",
   "metadata": {},
   "source": [
    "#### Read map from file and define where the start and goal positions are"
   ]
  },
  {
   "cell_type": "code",
   "execution_count": 142,
   "id": "efc881cb",
   "metadata": {},
   "outputs": [
    {
     "name": "stdout",
     "output_type": "stream",
     "text": [
      "Start at: [2, 6]\n",
      "Goal at: [16, 2]\n"
     ]
    }
   ],
   "source": [
    "map_file = \"map1.txt\"\n",
    "start_char = '1'\n",
    "goal_char = '4'\n",
    "tree_char = '2'\n",
    "water_char = '3'\n",
    "visited_char = '5'\n",
    "\n",
    "def read_map_file(file_name = \"map1.txt\"):\n",
    "    i = 0\n",
    "    j = 0\n",
    "    my_map = []\n",
    "    start = [0,0]\n",
    "    goal  = [0,0]\n",
    "    with open(file_name) as f:\n",
    "        lines = f.readlines()\n",
    "        for line in lines:\n",
    "            line_arr = []\n",
    "            j = 0\n",
    "            for char in line:\n",
    "                # skip carry char\n",
    "                if char != '\\n':\n",
    "                    line_arr.append(int(char))\n",
    "                # start char is 1\n",
    "                if char == start_char:\n",
    "                    start = [j, i]\n",
    "                # end char is 3\n",
    "                if char == goal_char:\n",
    "                    goal = [j, i]\n",
    "\n",
    "                j += 1\n",
    "            my_map.append(line_arr)\n",
    "            i += 1\n",
    "        return my_map, start, goal\n",
    "\n",
    "my_map, start, goal = read_map_file()\n",
    "print('Start at:', start)\n",
    "print('Goal at:', goal)"
   ]
  },
  {
   "cell_type": "markdown",
   "id": "7974cc14",
   "metadata": {},
   "source": [
    "#### Draw the map"
   ]
  },
  {
   "cell_type": "code",
   "execution_count": 143,
   "id": "1a0e4141",
   "metadata": {},
   "outputs": [],
   "source": [
    "# inspired by: https://stackoverflow.com/questions/38973868/adjusting-gridlines-and-ticks-in-matplotlib-imshow\n",
    "def draw_map(my_map, path = []):\n",
    "    xlen = len(my_map[0])\n",
    "    ylen = len(my_map)\n",
    "    colormap = colors.ListedColormap([\"white\",\"yellow\",'lightgreen', 'cyan', 'red', 'Linen'])\n",
    "    \n",
    "    # set ticks top and bottom\n",
    "    plt.rcParams['xtick.bottom'] = plt.rcParams['xtick.labelbottom'] = False\n",
    "    plt.rcParams['xtick.top'] = plt.rcParams['xtick.labeltop'] = True\n",
    "    \n",
    "    plt.figure()\n",
    "    im = plt.imshow(my_map, cmap = colormap)\n",
    "    ax = plt.gca();\n",
    "\n",
    "    # Major ticks\n",
    "    ax.set_xticks(np.arange(0, xlen, 1))\n",
    "    ax.set_yticks(np.arange(0, ylen, 1))\n",
    "\n",
    "    # Labels for major ticks\n",
    "    ax.set_xticklabels(np.arange(0, xlen, 1))\n",
    "    ax.set_yticklabels(np.arange(0, ylen, 1))\n",
    "\n",
    "    # Minor ticks\n",
    "    ax.set_xticks(np.arange(-.5, xlen, 1), minor=True)\n",
    "    ax.set_yticks(np.arange(-.5, ylen, 1), minor=True)\n",
    "\n",
    "    # Gridlines based on minor ticks\n",
    "    ax.grid(which='minor', color='grey', linestyle='-', linewidth=2)\n",
    "    \n",
    "    for step in path:\n",
    "        plt.plot(step[0], step[1], marker='o', color='b')\n",
    "        \n",
    "    ax.text(start[0]-0.3, start[1]+ 0.3, 'S', fontsize=13)\n",
    "    ax.text(goal[0]-0.3, goal[1]+ 0.3, 'G', fontsize=13)\n",
    "\n",
    "    plt.show()"
   ]
  },
  {
   "cell_type": "markdown",
   "id": "edbd9e8d",
   "metadata": {},
   "source": [
    "## Exercise Problem-Solver Agent"
   ]
  },
  {
   "cell_type": "markdown",
   "id": "fd8eeddf",
   "metadata": {},
   "source": [
    "1. What is an Agent?"
   ]
  },
  {
   "cell_type": "code",
   "execution_count": 1,
   "id": "d7625f76",
   "metadata": {},
   "outputs": [],
   "source": [
    "# here your answer"
   ]
  },
  {
   "cell_type": "markdown",
   "id": "6982eda5",
   "metadata": {},
   "source": [
    "2. What is a Problem-Solver Agent? Define a problem-solver agent to find the path between two points in a map."
   ]
  },
  {
   "cell_type": "code",
   "execution_count": 1,
   "id": "8f095876",
   "metadata": {},
   "outputs": [],
   "source": [
    "# here your answer"
   ]
  },
  {
   "cell_type": "markdown",
   "id": "9bef84b3",
   "metadata": {},
   "source": [
    "## Exercise Uninformed Search"
   ]
  },
  {
   "cell_type": "markdown",
   "id": "5c870b85",
   "metadata": {},
   "source": [
    "#### color code:\n",
    "\n",
    "Here is what every element in the map means:\n",
    "\n",
    "- white (0):   blank space\n",
    "- yellow (1):  starting position\n",
    "- green (2):   trees\n",
    "- cyan (3):    water\n",
    "- red (4):     goal position\n",
    "- brown (5):  expanded state (already visited)\n",
    "\n",
    "\n",
    "For uninformed search let's suppose:\n",
    "- the agent can't go through trees nor water (they are obstacles).\n",
    "- the cost to go from one state to another is 1."
   ]
  },
  {
   "cell_type": "markdown",
   "id": "de8f627e",
   "metadata": {},
   "source": [
    "#### BFS\n",
    "\n",
    "1. Implement BFS algorithm to find the path between start and goal. To help you out with this task you can complete the code below using what we have seen in class."
   ]
  },
  {
   "cell_type": "code",
   "execution_count": 56,
   "id": "a98e7615",
   "metadata": {},
   "outputs": [],
   "source": [
    "actions = ['U', 'D', 'L', 'R']\n",
    "\n",
    "class State:\n",
    "    def __init__(self):\n",
    "        self.father = None\n",
    "        self.value = None\n",
    "\n",
    "def get_path(state):\n",
    "    # your code here\n",
    "\n",
    "def goal_test(state, goal):\n",
    "    # your code here\n",
    "\n",
    "def tf(state, action, my_map):\n",
    "    x = state[0]\n",
    "    y = state[1]\n",
    "    limit_x = len(my_map[0]) - 1\n",
    "    limit_y = len(my_map) - 1\n",
    "    next_state = None\n",
    "    if action == 'L' and x > 0:\n",
    "        next_state =  [x-1, y]\n",
    "    elif action == 'R' and x < limit_x:\n",
    "        next_state = [x+1, y]\n",
    "    elif action == 'U' and y > 0:\n",
    "        next_state = [x, y-1]\n",
    "    elif action == 'D' and y < limit_y:\n",
    "        next_state = [x, y+1]\n",
    "    \n",
    "    if next_state is not None:\n",
    "        # verify if we already visited that state\n",
    "        \n",
    "        # your code here\n",
    "        \n",
    "            return True, next_state\n",
    "        \n",
    "    return False, _\n",
    "\n",
    "def bfs(start, goal, actions, my_map):\n",
    "    start_state = State()\n",
    "    start_state.value = start\n",
    "    open_states = # your code here\n",
    "    open_states.put(start_state)\n",
    "    \n",
    "    while # your code here:\n",
    "        state = open_states.get()\n",
    "        my_map[state.value[1]][state.value[0]] = int(visited_char)\n",
    "        \n",
    "        if (goal_test(state.value, goal)):\n",
    "            return (True, state)\n",
    "        \n",
    "        for action in actions:\n",
    "            # your code here\n",
    "    return False, _\n"
   ]
  },
  {
   "cell_type": "code",
   "execution_count": 57,
   "id": "b0dba35c",
   "metadata": {},
   "outputs": [
    {
     "name": "stdout",
     "output_type": "stream",
     "text": [
      "Solution found?  True\n"
     ]
    },
    {
     "data": {
      "image/png": "[encoded data removed]",
      "text/plain": [
       "<Figure size 432x288 with 1 Axes>"
      ]
     },
     "metadata": {
      "needs_background": "light"
     },
     "output_type": "display_data"
    }
   ],
   "source": [
    "my_map, start, goal = read_map_file()\n",
    "found, goal_state = bfs(start, goal, actions, my_map)\n",
    "my_map[start[1]][start[0]] = 1 # restore start position  color\n",
    "print('Solution found? ', found)\n",
    "path = get_path(goal_state.father)\n",
    "draw_map(my_map, path)"
   ]
  },
  {
   "cell_type": "markdown",
   "id": "b0c453bc",
   "metadata": {},
   "source": [
    "#### DFS\n",
    "\n",
    "1. Implement DFS algorithm to find the path between start and goal."
   ]
  },
  {
   "cell_type": "code",
   "execution_count": 62,
   "id": "8f14124d",
   "metadata": {},
   "outputs": [],
   "source": [
    "def dfs(start, goal, actions, my_map):\n",
    "    # your code here\n",
    "    return False, _"
   ]
  },
  {
   "cell_type": "code",
   "execution_count": null,
   "id": "fb66a211",
   "metadata": {},
   "outputs": [],
   "source": [
    "my_map, start, goal = read_map_file()\n",
    "found, goal_state = dfs(start, goal, actions, my_map)\n",
    "my_map[start[1]][start[0]] = 1 # restore start position  color\n",
    "print('Solution found? ', found)\n",
    "path = get_path(goal_state.father)\n",
    "draw_map(my_map, path)"
   ]
  },
  {
   "cell_type": "markdown",
   "id": "8b8e01c1",
   "metadata": {},
   "source": [
    "2. Now change the order of the actions. Do you have a shorter path (hint: to answer this, calculate the cost of the path and experiment with diferent order for the actions)? Why is that?"
   ]
  },
  {
   "cell_type": "code",
   "execution_count": null,
   "id": "8a06007e",
   "metadata": {},
   "outputs": [],
   "source": [
    "# your code here"
   ]
  },
  {
   "cell_type": "markdown",
   "id": "60e2b616",
   "metadata": {},
   "source": [
    "3. Does it happen the same thing when you change the order of actions for BFS (hint: to answer this calculate the cost of the path and experiment with diferent order for the actions)? Experiment, show your results and discuss."
   ]
  },
  {
   "cell_type": "code",
   "execution_count": 2,
   "id": "aee36e59",
   "metadata": {},
   "outputs": [],
   "source": [
    "# your code here"
   ]
  },
  {
   "cell_type": "markdown",
   "id": "ef666b2e",
   "metadata": {},
   "source": [
    "4. Did BFS or DFS find the optimal path? What is the cost of it? Give some examples"
   ]
  },
  {
   "cell_type": "code",
   "execution_count": null,
   "id": "8e4b0779",
   "metadata": {},
   "outputs": [],
   "source": [
    "# your code here"
   ]
  },
  {
   "cell_type": "markdown",
   "id": "a7532d6d",
   "metadata": {},
   "source": [
    "5. Execute BFS and DFS for the map2.txt file. Which one finds a better path? Which one would you choose for the path-finding problem? "
   ]
  },
  {
   "cell_type": "code",
   "execution_count": null,
   "id": "04224aee",
   "metadata": {},
   "outputs": [],
   "source": [
    "actions = ['U', 'D', 'L', 'R']\n",
    "\n",
    "# your code here"
   ]
  },
  {
   "cell_type": "markdown",
   "id": "1cdb4db2",
   "metadata": {},
   "source": [
    "## Exercises Informed Search"
   ]
  },
  {
   "cell_type": "markdown",
   "id": "6ef65f57",
   "metadata": {},
   "source": [
    "1. Let's suppose:\n",
    "- the agent can now go through trees and water.\n",
    "- the cost to go from one state to another is:\n",
    "    - empty spaces: 1\n",
    "    - trees: 3\n",
    "    - water: 5\n",
    "    \n",
    "Solve the problem using A* using the Manhattan distance as a heuristic. \n",
    "\n",
    "You may use map3.txt and map4.txt here."
   ]
  },
  {
   "cell_type": "code",
   "execution_count": 1,
   "id": "8d7c164e",
   "metadata": {},
   "outputs": [],
   "source": [
    "# your code here"
   ]
  },
  {
   "cell_type": "markdown",
   "id": "e3d0cd8e",
   "metadata": {},
   "source": [
    "2. How many states expands A*?"
   ]
  },
  {
   "cell_type": "code",
   "execution_count": 2,
   "id": "2d7dec86",
   "metadata": {},
   "outputs": [],
   "source": [
    "# your answer here"
   ]
  },
  {
   "cell_type": "markdown",
   "id": "34102832",
   "metadata": {},
   "source": [
    "3. Is A* optimal and complete for this case? Justify your answers"
   ]
  },
  {
   "cell_type": "code",
   "execution_count": 3,
   "id": "d5a8c829",
   "metadata": {},
   "outputs": [],
   "source": [
    "# your answer here"
   ]
  },
  {
   "cell_type": "markdown",
   "id": "fd5f9f48",
   "metadata": {},
   "source": [
    "4. Create an empty map of 21x21 put the start position in one extreme, the goal position in another and execute BFS and A* in this map and compare both algorithms. Answer some questions such as: what is the states space? which one expands/visits less states? which one does a better job? "
   ]
  },
  {
   "cell_type": "code",
   "execution_count": 4,
   "id": "64f2517d",
   "metadata": {},
   "outputs": [],
   "source": [
    "# your answer here"
   ]
  },
  {
   "cell_type": "code",
   "execution_count": null,
   "id": "9abcef74",
   "metadata": {},
   "outputs": [],
   "source": []
  }
 ],
 "metadata": {
  "kernelspec": {
   "display_name": "Python 3 (ipykernel)",
   "language": "python",
   "name": "python3"
  },
  "language_info": {
   "codemirror_mode": {
    "name": "ipython",
    "version": 3
   },
   "file_extension": ".py",
   "mimetype": "text/x-python",
   "name": "python",
   "nbconvert_exporter": "python",
   "pygments_lexer": "ipython3",
   "version": "3.9.7"
  }
 },
 "nbformat": 4,
 "nbformat_minor": 5
}
